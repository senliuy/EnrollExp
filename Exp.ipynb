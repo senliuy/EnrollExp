{
 "cells": [
  {
   "cell_type": "code",
   "execution_count": 1,
   "id": "56781380",
   "metadata": {},
   "outputs": [],
   "source": [
    "from numpy import random\n",
    "from tqdm import tqdm"
   ]
  },
  {
   "cell_type": "code",
   "execution_count": 2,
   "id": "3e08d656",
   "metadata": {},
   "outputs": [],
   "source": [
    "# 随机分数，正态分布\n",
    "def random_score(low, high):\n",
    "    rand_val = random.normal(0.5,0.15)\n",
    "    score = int(max(0, min(1, rand_val)) * (high-low) + low)\n",
    "    return score"
   ]
  },
  {
   "cell_type": "code",
   "execution_count": 3,
   "id": "6d56ed80",
   "metadata": {},
   "outputs": [],
   "source": [
    "# 随机学校数，均匀分布\n",
    "def random_school_num(low, high):\n",
    "    return random.randint(low, high)"
   ]
  },
  {
   "cell_type": "code",
   "execution_count": 4,
   "id": "87c9b2a8",
   "metadata": {},
   "outputs": [],
   "source": [
    "# 随机每个学校的学生数，均匀分布\n",
    "def random_student_num(low, high):\n",
    "    return random.randint(low, high)"
   ]
  },
  {
   "cell_type": "code",
   "execution_count": 5,
   "id": "b593d594",
   "metadata": {},
   "outputs": [],
   "source": [
    "# 生成每个学校的总分列表\n",
    "def school_score_list(student_num):\n",
    "    scores = [random_score(LOW_SCO, HIG_SCO) for x in range(0, student_num)]\n",
    "    return scores"
   ]
  },
  {
   "cell_type": "code",
   "execution_count": 6,
   "id": "77cac1b3",
   "metadata": {},
   "outputs": [],
   "source": [
    "# 根据学校平均分，以及人数分配指标，平均分越高指标越多，人数越多指标越多，但具有一定随机性\n",
    "def assign_enroll_num(school_num):\n",
    "    avg_score_list = []\n",
    "    score_matrix = []\n",
    "    stu_num_list = []\n",
    "    # 统计分数，学生数\n",
    "    for idx in range(0, school_num):\n",
    "        stu_num = random_student_num(MIN_STU, MAX_STU)\n",
    "        stu_num_list.append(stu_num)\n",
    "        scores = school_score_list(stu_num)\n",
    "        score_matrix.append(scores)\n",
    "        avg_score = sum(scores)/len(scores)\n",
    "        avg_score_list.append(avg_score)\n",
    "        \n",
    "    total_score = sum(avg_score_list)\n",
    "    total_stu_num = sum(stu_num_list)\n",
    "    score_ratio_list = [x/total_score for x in avg_score_list]\n",
    "    stu_ratio_list = [x/total_stu_num for x in stu_num_list]\n",
    "    noised_ratio_list = []\n",
    "    # 计算分配指标占比，并添加噪音\n",
    "    for idx, stu_ratio in enumerate(stu_ratio_list):\n",
    "        score_ratio = score_ratio_list[idx]\n",
    "        stu_num = stu_num_list[idx]\n",
    "        noise = (random.random() - 0.5) * NOS_LEV * stu_num\n",
    "        noised_ratio_list.append(noise + score_ratio + stu_ratio)\n",
    "    # 归一化\n",
    "    sum_ratio = sum(noised_ratio_list)\n",
    "    normed_ratio_list = [x/sum_ratio for x in noised_ratio_list]\n",
    "    # 计算招生数\n",
    "    total_enroll_num = int(total_stu_num * random.uniform(MIN_RAT, MAX_RAT)) # 总共录取人数\n",
    "    before_num = int(random.uniform(MIN_BEF, MAX_BEF) * total_enroll_num) # 提前批录取人数\n",
    "    enroll_num_list = [int(x * before_num) for x in normed_ratio_list] # 每个学校提前批录取人数\n",
    "    for idx, stu_num in enumerate(stu_num_list):\n",
    "        enroll_num = enroll_num_list[idx]\n",
    "        if enroll_num - stu_num > 0:\n",
    "            return False, False, False, False\n",
    "    return total_enroll_num, before_num, enroll_num_list, score_matrix"
   ]
  },
  {
   "cell_type": "code",
   "execution_count": 7,
   "id": "f4a9a703",
   "metadata": {},
   "outputs": [],
   "source": [
    "# 情况1：先每个学生按指标招统招，然后从剩下的里面选分数最高的\n",
    "def case_one(school_num, total_enroll_num, before_num, enroll_num_list, score_matrix):\n",
    "    next_scores = [] # 第二批候选池\n",
    "    next_num = total_enroll_num - before_num\n",
    "    before_score_matrix = []\n",
    "    for i in range(0, school_num):\n",
    "        scores = score_matrix[i]\n",
    "        sorted_scores = sorted(scores, reverse=True)\n",
    "        bef_sch_num = enroll_num_list[i]\n",
    "        bef_scores = sorted_scores[0:bef_sch_num]\n",
    "        next_scores = sorted_scores[bef_sch_num:]\n",
    "        before_score_matrix.append(bef_scores)\n",
    "        next_scores += next_scores\n",
    "    sorted_next_scores = sorted(next_scores, reverse=True)\n",
    "    enrolled_next_scores = sorted_next_scores[:next_num]\n",
    "    return before_score_matrix, enrolled_next_scores"
   ]
  },
  {
   "cell_type": "code",
   "execution_count": 8,
   "id": "aa6156b0",
   "metadata": {},
   "outputs": [],
   "source": [
    "# 情况2：先选最高的，再从剩下的选统招\n",
    "def case_two(school_num, total_enroll_num, before_num, enroll_num_list, score_matrix):\n",
    "    total_score_list = []\n",
    "    next_num = total_enroll_num - before_num\n",
    "    for score in score_matrix:\n",
    "        total_score_list += score\n",
    "    sorted_total_score_list = sorted(total_score_list, reverse=True)\n",
    "    next_scores = sorted_total_score_list[:next_num]\n",
    "    before_score_matrix = []\n",
    "    \n",
    "    # 排除选走的非统招\n",
    "    for next_score in next_scores:\n",
    "        shuf_idx = [x for x in range(0, school_num)]\n",
    "        random.shuffle(shuf_idx)\n",
    "        \n",
    "        for idx in shuf_idx:\n",
    "            if next_score in score_matrix[idx]:\n",
    "                score_matrix[idx].remove(next_score)\n",
    "                break\n",
    "                \n",
    "    # 从剩下的选统招\n",
    "    for i in range(0, school_num):\n",
    "        scores = score_matrix[i]\n",
    "        sorted_scores = sorted(scores, reverse=True)\n",
    "        bef_sch_num = enroll_num_list[i]\n",
    "        bef_scores = sorted_scores[0:bef_sch_num]\n",
    "        before_score_matrix.append(bef_scores)\n",
    "        \n",
    "    return before_score_matrix, next_scores\n",
    "\n"
   ]
  },
  {
   "cell_type": "code",
   "execution_count": 9,
   "id": "d9317d01",
   "metadata": {},
   "outputs": [],
   "source": [
    "def cal_reward(before_score_matrix, next_scores):\n",
    "    before_score_matrix.append(next_scores)\n",
    "    total = 0\n",
    "    for score_list in before_score_matrix:\n",
    "        total += sum(score_list)\n",
    "    return total"
   ]
  },
  {
   "cell_type": "code",
   "execution_count": 10,
   "id": "8e40b1a2",
   "metadata": {},
   "outputs": [],
   "source": [
    "def simulate(sim_num = 10):\n",
    "    case_one_win = 0\n",
    "    case_two_win = 0\n",
    "    draw_num = 0\n",
    "    for i in tqdm(range(sim_num)):\n",
    "        school_num = random_school_num(MIN_SCH, MAX_SCH)\n",
    "        \n",
    "        total_enroll_num, before_num, enroll_num_list, score_matrix = assign_enroll_num(school_num)\n",
    "        while total_enroll_num == False:\n",
    "            total_enroll_num, before_num, enroll_num_list, score_matrix = assign_enroll_num(school_num)\n",
    "        before_score_matrix1, next_scores1 = case_one(school_num, total_enroll_num, before_num, enroll_num_list, score_matrix)\n",
    "        before_score_matrix2, next_scores2 = case_two(school_num, total_enroll_num, before_num, enroll_num_list, score_matrix)\n",
    "        case_one_reward = cal_reward(before_score_matrix1, next_scores1)\n",
    "        case_two_reward = cal_reward(before_score_matrix2, next_scores2)\n",
    "        \n",
    "        # print (next_scores2)\n",
    "        if case_one_reward > case_two_reward:\n",
    "            case_one_win += 1\n",
    "        elif case_one_reward < case_two_reward:\n",
    "            case_two_win += 1\n",
    "        else:\n",
    "            # print (case_one_reward, case_two_reward)\n",
    "            draw_num += 1\n",
    "        # print (case_one_reward, case_two_reward)\n",
    "        \n",
    "    print('case_one_win: ', case_one_win)\n",
    "    print('case_two_win: ', case_two_win)\n",
    "    print('draw_num: ', draw_num)\n"
   ]
  },
  {
   "cell_type": "code",
   "execution_count": 11,
   "id": "6bdedc40",
   "metadata": {},
   "outputs": [
    {
     "name": "stderr",
     "output_type": "stream",
     "text": [
      "100%|██████████| 10000/10000 [04:22<00:00, 38.03it/s]"
     ]
    },
    {
     "name": "stdout",
     "output_type": "stream",
     "text": [
      "case_one_win:  40\n",
      "case_two_win:  9960\n",
      "draw_num:  0\n"
     ]
    },
    {
     "name": "stderr",
     "output_type": "stream",
     "text": [
      "\n"
     ]
    }
   ],
   "source": [
    "# baseline\n",
    "LOW_SCO = 0  # 最低分\n",
    "HIG_SCO = 500 # 最高分\n",
    "MIN_SCH = 5 # 最少学校数\n",
    "MAX_SCH = 10 # 最多学校数\n",
    "MIN_STU = 500 # 每个学校最少学生数\n",
    "MAX_STU = 1000 # 每个学校最多学生数\n",
    "NOS_LEV = 0.0001 # 模拟招生指标事前分配，取决于学生数和教学水平，随机性越大值越高，0是事后分配\n",
    "MIN_RAT = 0.1 # 最低总录取率\n",
    "MAX_RAT = 0.2 # 最高总录取率\n",
    "MIN_BEF = 0.2 # 最低统招占比\n",
    "MAX_BEF = 0.8 # 最高统招占比\n",
    "simulate(sim_num = 10000)"
   ]
  },
  {
   "cell_type": "code",
   "execution_count": 12,
   "id": "f15cae61",
   "metadata": {},
   "outputs": [
    {
     "name": "stderr",
     "output_type": "stream",
     "text": [
      "100%|██████████| 10000/10000 [23:55<00:00,  6.97it/s]"
     ]
    },
    {
     "name": "stdout",
     "output_type": "stream",
     "text": [
      "case_one_win:  0\n",
      "case_two_win:  10000\n",
      "draw_num:  0\n"
     ]
    },
    {
     "name": "stderr",
     "output_type": "stream",
     "text": [
      "\n"
     ]
    }
   ],
   "source": [
    "# 提升区域学校数\n",
    "LOW_SCO = 0  # 最低分\n",
    "HIG_SCO = 500 # 最高分\n",
    "MIN_SCH = 20 # 最少学校数\n",
    "MAX_SCH = 40 # 最多学校数\n",
    "MIN_STU = 500 # 每个学校最少学生数\n",
    "MAX_STU = 1000 # 每个学校最多学生数\n",
    "NOS_LEV = 0.0001 # 模拟招生指标事前分配，取决于学生数和教学水平，随机性越大值越高，0是事后分配\n",
    "MIN_RAT = 0.1 # 最低总录取率\n",
    "MAX_RAT = 0.2 # 最高总录取率\n",
    "MIN_BEF = 0.2 # 最低统招占比\n",
    "MAX_BEF = 0.8 # 最高统招占比\n",
    "simulate(sim_num = 10000)"
   ]
  },
  {
   "cell_type": "code",
   "execution_count": 13,
   "id": "b4608d27",
   "metadata": {},
   "outputs": [
    {
     "name": "stderr",
     "output_type": "stream",
     "text": [
      "100%|██████████| 10000/10000 [04:19<00:00, 38.59it/s]"
     ]
    },
    {
     "name": "stdout",
     "output_type": "stream",
     "text": [
      "case_one_win:  3584\n",
      "case_two_win:  6415\n",
      "draw_num:  1\n"
     ]
    },
    {
     "name": "stderr",
     "output_type": "stream",
     "text": [
      "\n"
     ]
    }
   ],
   "source": [
    "# 提升分配的不公平性\n",
    "LOW_SCO = 0  # 最低分\n",
    "HIG_SCO = 500 # 最高分\n",
    "MIN_SCH = 5 # 最少学校数\n",
    "MAX_SCH = 10 # 最多学校数\n",
    "MIN_STU = 500 # 每个学校最少学生数\n",
    "MAX_STU = 1000 # 每个学校最多学生数\n",
    "NOS_LEV = 0.001 # 模拟招生指标事前分配，取决于学生数和教学水平，随机性越大值越高，0是事后分配\n",
    "MIN_RAT = 0.1 # 最低总录取率\n",
    "MAX_RAT = 0.2 # 最高总录取率\n",
    "MIN_BEF = 0.2 # 最低统招占比\n",
    "MAX_BEF = 0.8 # 最高统招占比\n",
    "simulate(sim_num = 10000)"
   ]
  },
  {
   "cell_type": "code",
   "execution_count": 14,
   "id": "14b0c4f2",
   "metadata": {},
   "outputs": [
    {
     "name": "stderr",
     "output_type": "stream",
     "text": [
      "100%|██████████| 10000/10000 [9:15:14<00:00,  3.33s/it]    "
     ]
    },
    {
     "name": "stdout",
     "output_type": "stream",
     "text": [
      "case_one_win:  3682\n",
      "case_two_win:  6318\n",
      "draw_num:  0\n"
     ]
    },
    {
     "name": "stderr",
     "output_type": "stream",
     "text": [
      "\n"
     ]
    }
   ],
   "source": [
    "# 提升区域学校规模\n",
    "LOW_SCO = 0  # 最低分\n",
    "HIG_SCO = 500 # 最高分\n",
    "MIN_SCH = 5 # 最少学校数\n",
    "MAX_SCH = 10 # 最多学校数\n",
    "MIN_STU = 5000 # 每个学校最少学生数\n",
    "MAX_STU = 10000 # 每个学校最多学生数\n",
    "NOS_LEV = 0.0001 # 模拟招生指标事前分配，取决于学生数和教学水平，随机性越大值越高，0是事后分配\n",
    "MIN_RAT = 0.1 # 最低总录取率\n",
    "MAX_RAT = 0.2 # 最高总录取率\n",
    "MIN_BEF = 0.2 # 最低统招占比\n",
    "MAX_BEF = 0.8 # 最高统招占比\n",
    "simulate(sim_num = 10000)"
   ]
  },
  {
   "cell_type": "code",
   "execution_count": 15,
   "id": "30aaa27e",
   "metadata": {},
   "outputs": [
    {
     "name": "stderr",
     "output_type": "stream",
     "text": [
      "100%|██████████| 10000/10000 [03:13<00:00, 51.59it/s]"
     ]
    },
    {
     "name": "stdout",
     "output_type": "stream",
     "text": [
      "case_one_win:  369\n",
      "case_two_win:  9626\n",
      "draw_num:  5\n"
     ]
    },
    {
     "name": "stderr",
     "output_type": "stream",
     "text": [
      "\n"
     ]
    }
   ],
   "source": [
    "# 降低招生率\n",
    "LOW_SCO = 0  # 最低分\n",
    "HIG_SCO = 500 # 最高分\n",
    "MIN_SCH = 5 # 最少学校数\n",
    "MAX_SCH = 10 # 最多学校数\n",
    "MIN_STU = 500 # 每个学校最少学生数\n",
    "MAX_STU = 1000 # 每个学校最多学生数\n",
    "NOS_LEV = 0.0001 # 模拟招生指标事前分配，取决于学生数和教学水平，随机性越大值越高，0是事后分配\n",
    "MIN_RAT = 0.01 # 最低总录取率\n",
    "MAX_RAT = 0.02 # 最高总录取率\n",
    "MIN_BEF = 0.2 # 最低统招占比\n",
    "MAX_BEF = 0.8 # 最高统招占比\n",
    "simulate(sim_num = 10000)"
   ]
  },
  {
   "cell_type": "code",
   "execution_count": 16,
   "id": "078e7dcc",
   "metadata": {},
   "outputs": [
    {
     "name": "stderr",
     "output_type": "stream",
     "text": [
      "100%|██████████| 10000/10000 [08:11<00:00, 20.35it/s]"
     ]
    },
    {
     "name": "stdout",
     "output_type": "stream",
     "text": [
      "case_one_win:  9\n",
      "case_two_win:  9991\n",
      "draw_num:  0\n"
     ]
    },
    {
     "name": "stderr",
     "output_type": "stream",
     "text": [
      "\n"
     ]
    }
   ],
   "source": [
    "# 提升招生率\n",
    "LOW_SCO = 0  # 最低分\n",
    "HIG_SCO = 500 # 最高分\n",
    "MIN_SCH = 5 # 最少学校数\n",
    "MAX_SCH = 10 # 最多学校数\n",
    "MIN_STU = 500 # 每个学校最少学生数\n",
    "MAX_STU = 1000 # 每个学校最多学生数\n",
    "NOS_LEV = 0.0001 # 模拟招生指标事前分配，取决于学生数和教学水平，随机性越大值越高，0是事后分配\n",
    "MIN_RAT = 0.8 # 最低总录取率\n",
    "MAX_RAT = 0.9 # 最高总录取率\n",
    "MIN_BEF = 0.2 # 最低统招占比\n",
    "MAX_BEF = 0.8 # 最高统招占比\n",
    "simulate(sim_num = 10000)"
   ]
  },
  {
   "cell_type": "code",
   "execution_count": 17,
   "id": "fc2b4c16",
   "metadata": {},
   "outputs": [
    {
     "name": "stderr",
     "output_type": "stream",
     "text": [
      "100%|██████████| 10000/10000 [04:48<00:00, 34.63it/s]"
     ]
    },
    {
     "name": "stdout",
     "output_type": "stream",
     "text": [
      "case_one_win:  0\n",
      "case_two_win:  10000\n",
      "draw_num:  0\n"
     ]
    },
    {
     "name": "stderr",
     "output_type": "stream",
     "text": [
      "\n"
     ]
    }
   ],
   "source": [
    "# 降低统招占比\n",
    "LOW_SCO = 0  # 最低分\n",
    "HIG_SCO = 500 # 最高分\n",
    "MIN_SCH = 5 # 最少学校数\n",
    "MAX_SCH = 10 # 最多学校数\n",
    "MIN_STU = 500 # 每个学校最少学生数\n",
    "MAX_STU = 1000 # 每个学校最多学生数\n",
    "NOS_LEV = 0.0001 # 模拟招生指标事前分配，取决于学生数和教学水平，随机性越大值越高，0是事后分配\n",
    "MIN_RAT = 0.1 # 最低总录取率\n",
    "MAX_RAT = 0.2 # 最高总录取率\n",
    "MIN_BEF = 0.2 # 最低统招占比\n",
    "MAX_BEF = 0.3 # 最高统招占比\n",
    "simulate(sim_num = 10000)"
   ]
  },
  {
   "cell_type": "code",
   "execution_count": 18,
   "id": "cff69911",
   "metadata": {},
   "outputs": [
    {
     "name": "stderr",
     "output_type": "stream",
     "text": [
      "100%|██████████| 10000/10000 [03:29<00:00, 47.75it/s]"
     ]
    },
    {
     "name": "stdout",
     "output_type": "stream",
     "text": [
      "case_one_win:  984\n",
      "case_two_win:  9005\n",
      "draw_num:  11\n"
     ]
    },
    {
     "name": "stderr",
     "output_type": "stream",
     "text": [
      "\n"
     ]
    }
   ],
   "source": [
    "# 提升统招占比\n",
    "LOW_SCO = 0  # 最低分\n",
    "HIG_SCO = 500 # 最高分\n",
    "MIN_SCH = 5 # 最少学校数\n",
    "MAX_SCH = 10 # 最多学校数\n",
    "MIN_STU = 500 # 每个学校最少学生数\n",
    "MAX_STU = 1000 # 每个学校最多学生数\n",
    "NOS_LEV = 0.0001 # 模拟招生指标事前分配，取决于学生数和教学水平，随机性越大值越高，0是事后分配\n",
    "MIN_RAT = 0.1 # 最低总录取率\n",
    "MAX_RAT = 0.2 # 最高总录取率\n",
    "MIN_BEF = 0.8 # 最低统招占比\n",
    "MAX_BEF = 0.9 # 最高统招占比\n",
    "simulate(sim_num = 10000)"
   ]
  },
  {
   "cell_type": "code",
   "execution_count": null,
   "id": "156d96c1",
   "metadata": {},
   "outputs": [],
   "source": []
  }
 ],
 "metadata": {
  "kernelspec": {
   "display_name": "Python 3",
   "language": "python",
   "name": "python3"
  },
  "language_info": {
   "codemirror_mode": {
    "name": "ipython",
    "version": 3
   },
   "file_extension": ".py",
   "mimetype": "text/x-python",
   "name": "python",
   "nbconvert_exporter": "python",
   "pygments_lexer": "ipython3",
   "version": "3.8.8"
  }
 },
 "nbformat": 4,
 "nbformat_minor": 5
}
